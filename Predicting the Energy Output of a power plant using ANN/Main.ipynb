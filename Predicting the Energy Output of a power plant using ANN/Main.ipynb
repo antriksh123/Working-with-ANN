{
  "cells": [
    {
      "cell_type": "markdown",
      "metadata": {
        "id": "7PVBF6KTu0Fh"
      },
      "source": [
        "Importing Libraries"
      ]
    },
    {
      "cell_type": "code",
      "execution_count": 1,
      "metadata": {
        "id": "xtruaj0_spMf"
      },
      "outputs": [],
      "source": [
        "import pandas as pd\n",
        "import numpy as np\n",
        "import tensorflow as tf "
      ]
    },
    {
      "cell_type": "code",
      "execution_count": 2,
      "metadata": {
        "colab": {
          "base_uri": "https://localhost:8080/",
          "height": 35
        },
        "id": "fLDWkhM2ujcL",
        "outputId": "af6fa504-d73b-42a2-acf9-62714dd79b4d"
      },
      "outputs": [
        {
          "data": {
            "text/plain": [
              "'2.12.0'"
            ]
          },
          "execution_count": 2,
          "metadata": {},
          "output_type": "execute_result"
        }
      ],
      "source": [
        "tf.__version__"
      ]
    },
    {
      "cell_type": "markdown",
      "metadata": {
        "id": "5arLh-7ru8WK"
      },
      "source": [
        "Importing Dataset and splitting "
      ]
    },
    {
      "cell_type": "code",
      "execution_count": 3,
      "metadata": {
        "id": "8Tsedy0AuoJd"
      },
      "outputs": [],
      "source": [
        "df = pd.read_excel('CCPP/Folds5x2_pp.xlsx')"
      ]
    },
    {
      "cell_type": "code",
      "execution_count": 4,
      "metadata": {
        "colab": {
          "base_uri": "https://localhost:8080/"
        },
        "id": "hzx13GVnvaQD",
        "outputId": "37f2458d-5c8d-4c95-96ed-64333beadffc"
      },
      "outputs": [
        {
          "name": "stdout",
          "output_type": "stream",
          "text": [
            "<class 'pandas.core.frame.DataFrame'>\n",
            "RangeIndex: 9568 entries, 0 to 9567\n",
            "Data columns (total 5 columns):\n",
            " #   Column  Non-Null Count  Dtype  \n",
            "---  ------  --------------  -----  \n",
            " 0   AT      9568 non-null   float64\n",
            " 1   V       9568 non-null   float64\n",
            " 2   AP      9568 non-null   float64\n",
            " 3   RH      9568 non-null   float64\n",
            " 4   PE      9568 non-null   float64\n",
            "dtypes: float64(5)\n",
            "memory usage: 373.9 KB\n"
          ]
        }
      ],
      "source": [
        "df.info()"
      ]
    },
    {
      "cell_type": "markdown",
      "metadata": {
        "id": "7ouPmxY6vye2"
      },
      "source": [
        "Splitting of DataSets into X and Y"
      ]
    },
    {
      "cell_type": "code",
      "execution_count": 5,
      "metadata": {
        "colab": {
          "base_uri": "https://localhost:8080/"
        },
        "id": "9RRed216vg0E",
        "outputId": "feeff3ac-1ad9-4038-9c57-c437b3610bcd"
      },
      "outputs": [
        {
          "data": {
            "text/plain": [
              "(9568, 4)"
            ]
          },
          "execution_count": 5,
          "metadata": {},
          "output_type": "execute_result"
        }
      ],
      "source": [
        "X = df.iloc[:, :-1].values\n",
        "Y = df.iloc[:, -1].values\n",
        "X.shape"
      ]
    },
    {
      "cell_type": "markdown",
      "metadata": {
        "id": "CFV1IQ1ZxpsR"
      },
      "source": [
        "Splitting the  data in test and train"
      ]
    },
    {
      "cell_type": "code",
      "execution_count": 6,
      "metadata": {
        "id": "dNlTr2V2vptu"
      },
      "outputs": [],
      "source": [
        "from sklearn.model_selection import train_test_split \n",
        "X_train, X_test, Y_train, Y_test = train_test_split(X, Y, test_size=0.2, random_state= 0)"
      ]
    },
    {
      "cell_type": "markdown",
      "metadata": {
        "id": "EB6LV3DxyZ5w"
      },
      "source": [
        "Building the ANN"
      ]
    },
    {
      "cell_type": "code",
      "execution_count": 7,
      "metadata": {
        "id": "DVTKgPBHwD6s"
      },
      "outputs": [],
      "source": [
        "from keras.models import Sequential\n",
        "from keras.layers import Dense"
      ]
    },
    {
      "cell_type": "code",
      "execution_count": 8,
      "metadata": {
        "id": "vSJCYSsYyjY3"
      },
      "outputs": [],
      "source": [
        "ann = Sequential()\n",
        "ann.add(Dense(units = 6, activation='relu'))\n",
        "ann.add(Dense(units = 6, activation = 'relu'))\n",
        "ann.add(Dense(units = 1))"
      ]
    },
    {
      "cell_type": "markdown",
      "metadata": {
        "id": "663i90FI13Kl"
      },
      "source": [
        "Training the ANN"
      ]
    },
    {
      "cell_type": "code",
      "execution_count": 9,
      "metadata": {
        "colab": {
          "base_uri": "https://localhost:8080/"
        },
        "id": "yxynbMZi3okI",
        "outputId": "51e0a4aa-4536-49f9-b6bc-06085bea5638"
      },
      "outputs": [
        {
          "data": {
            "text/plain": [
              "(7654,)"
            ]
          },
          "execution_count": 9,
          "metadata": {},
          "output_type": "execute_result"
        }
      ],
      "source": [
        "Y_train.shape"
      ]
    },
    {
      "cell_type": "code",
      "execution_count": 10,
      "metadata": {
        "colab": {
          "base_uri": "https://localhost:8080/"
        },
        "id": "kD8gadCx11Bo",
        "outputId": "0503d1fb-cf1c-4af2-9c09-511296099d75"
      },
      "outputs": [
        {
          "name": "stdout",
          "output_type": "stream",
          "text": [
            "Epoch 1/50\n",
            "240/240 [==============================] - 4s 4ms/step - loss: 30818.4336\n",
            "Epoch 2/50\n",
            "240/240 [==============================] - 1s 3ms/step - loss: 235.0193\n",
            "Epoch 3/50\n",
            "240/240 [==============================] - 1s 4ms/step - loss: 222.7985\n",
            "Epoch 4/50\n",
            "240/240 [==============================] - 1s 4ms/step - loss: 208.3702\n",
            "Epoch 5/50\n",
            "240/240 [==============================] - 1s 4ms/step - loss: 192.8228\n",
            "Epoch 6/50\n",
            "240/240 [==============================] - 1s 4ms/step - loss: 176.5723\n",
            "Epoch 7/50\n",
            "240/240 [==============================] - 1s 4ms/step - loss: 160.6712\n",
            "Epoch 8/50\n",
            "240/240 [==============================] - 1s 4ms/step - loss: 145.7736\n",
            "Epoch 9/50\n",
            "240/240 [==============================] - 1s 4ms/step - loss: 131.3930\n",
            "Epoch 10/50\n",
            "240/240 [==============================] - 1s 4ms/step - loss: 118.0385\n",
            "Epoch 11/50\n",
            "240/240 [==============================] - 1s 4ms/step - loss: 106.0711\n",
            "Epoch 12/50\n",
            "240/240 [==============================] - 1s 4ms/step - loss: 95.1984\n",
            "Epoch 13/50\n",
            "240/240 [==============================] - 1s 4ms/step - loss: 85.6836\n",
            "Epoch 14/50\n",
            "240/240 [==============================] - 1s 3ms/step - loss: 77.0913\n",
            "Epoch 15/50\n",
            "240/240 [==============================] - 1s 4ms/step - loss: 70.1199\n",
            "Epoch 16/50\n",
            "240/240 [==============================] - 1s 4ms/step - loss: 64.4888\n",
            "Epoch 17/50\n",
            "240/240 [==============================] - 1s 4ms/step - loss: 59.4331\n",
            "Epoch 18/50\n",
            "240/240 [==============================] - 1s 4ms/step - loss: 55.5029\n",
            "Epoch 19/50\n",
            "240/240 [==============================] - 1s 4ms/step - loss: 52.1137\n",
            "Epoch 20/50\n",
            "240/240 [==============================] - 1s 3ms/step - loss: 49.0195\n",
            "Epoch 21/50\n",
            "240/240 [==============================] - 1s 4ms/step - loss: 46.7565\n",
            "Epoch 22/50\n",
            "240/240 [==============================] - 1s 4ms/step - loss: 44.6124\n",
            "Epoch 23/50\n",
            "240/240 [==============================] - 1s 3ms/step - loss: 42.8156\n",
            "Epoch 24/50\n",
            "240/240 [==============================] - 1s 4ms/step - loss: 41.5111\n",
            "Epoch 25/50\n",
            "240/240 [==============================] - 1s 4ms/step - loss: 39.8393\n",
            "Epoch 26/50\n",
            "240/240 [==============================] - 1s 4ms/step - loss: 39.0581\n",
            "Epoch 27/50\n",
            "240/240 [==============================] - 1s 4ms/step - loss: 38.0097\n",
            "Epoch 28/50\n",
            "240/240 [==============================] - 1s 4ms/step - loss: 36.9444\n",
            "Epoch 29/50\n",
            "240/240 [==============================] - 1s 4ms/step - loss: 35.8753\n",
            "Epoch 30/50\n",
            "240/240 [==============================] - 1s 3ms/step - loss: 35.8647\n",
            "Epoch 31/50\n",
            "240/240 [==============================] - 1s 4ms/step - loss: 34.9436\n",
            "Epoch 32/50\n",
            "240/240 [==============================] - 1s 4ms/step - loss: 34.0283\n",
            "Epoch 33/50\n",
            "240/240 [==============================] - 1s 4ms/step - loss: 33.4387\n",
            "Epoch 34/50\n",
            "240/240 [==============================] - 1s 4ms/step - loss: 33.3635\n",
            "Epoch 35/50\n",
            "240/240 [==============================] - 1s 4ms/step - loss: 32.3218\n",
            "Epoch 36/50\n",
            "240/240 [==============================] - 1s 3ms/step - loss: 32.5910\n",
            "Epoch 37/50\n",
            "240/240 [==============================] - 1s 4ms/step - loss: 31.3449\n",
            "Epoch 38/50\n",
            "240/240 [==============================] - 1s 4ms/step - loss: 31.5771\n",
            "Epoch 39/50\n",
            "240/240 [==============================] - 1s 4ms/step - loss: 30.3898\n",
            "Epoch 40/50\n",
            "240/240 [==============================] - 1s 4ms/step - loss: 30.6242\n",
            "Epoch 41/50\n",
            "240/240 [==============================] - 1s 4ms/step - loss: 30.3778\n",
            "Epoch 42/50\n",
            "240/240 [==============================] - 1s 4ms/step - loss: 29.2150\n",
            "Epoch 43/50\n",
            "240/240 [==============================] - 1s 4ms/step - loss: 29.4764\n",
            "Epoch 44/50\n",
            "240/240 [==============================] - 1s 3ms/step - loss: 29.5791\n",
            "Epoch 45/50\n",
            "240/240 [==============================] - 1s 4ms/step - loss: 29.0234\n",
            "Epoch 46/50\n",
            "240/240 [==============================] - 1s 4ms/step - loss: 28.8020\n",
            "Epoch 47/50\n",
            "240/240 [==============================] - 1s 4ms/step - loss: 28.9212\n",
            "Epoch 48/50\n",
            "240/240 [==============================] - 1s 4ms/step - loss: 28.2552\n",
            "Epoch 49/50\n",
            "240/240 [==============================] - 1s 4ms/step - loss: 28.2624\n",
            "Epoch 50/50\n",
            "240/240 [==============================] - 1s 4ms/step - loss: 28.5296\n"
          ]
        },
        {
          "data": {
            "text/plain": [
              "<keras.callbacks.History at 0x1cb459bed50>"
            ]
          },
          "execution_count": 10,
          "metadata": {},
          "output_type": "execute_result"
        }
      ],
      "source": [
        "ann.compile(optimizer = 'adam', loss = 'mean_squared_error')\n",
        "ann.fit(X_train, Y_train, batch_size = 32, epochs = 50)"
      ]
    },
    {
      "cell_type": "markdown",
      "metadata": {
        "id": "oZeKXKBA4xfF"
      },
      "source": [
        "Predicting the Result "
      ]
    },
    {
      "cell_type": "code",
      "execution_count": 11,
      "metadata": {
        "colab": {
          "base_uri": "https://localhost:8080/"
        },
        "id": "R8yYSz442vdk",
        "outputId": "3f83b66d-1f3e-4f78-c69b-6ea87b5c3dad"
      },
      "outputs": [
        {
          "name": "stdout",
          "output_type": "stream",
          "text": [
            "60/60 [==============================] - 1s 3ms/step\n"
          ]
        }
      ],
      "source": [
        "Y_pred = ann.predict(X_test)"
      ]
    },
    {
      "cell_type": "code",
      "execution_count": 12,
      "metadata": {
        "id": "l_ap0jkc5EUM"
      },
      "outputs": [],
      "source": [
        "np.set_printoptions(precision = 2)"
      ]
    },
    {
      "cell_type": "code",
      "execution_count": 13,
      "metadata": {
        "colab": {
          "base_uri": "https://localhost:8080/"
        },
        "id": "EY0l9hQB5nyE",
        "outputId": "e8502b7f-6a62-4bc7-f97d-88db6e13ae1f"
      },
      "outputs": [
        {
          "data": {
            "text/plain": [
              "array([[432.75],\n",
              "       [465.63],\n",
              "       [469.97],\n",
              "       ...,\n",
              "       [475.66],\n",
              "       [445.13],\n",
              "       [463.27]], dtype=float32)"
            ]
          },
          "execution_count": 13,
          "metadata": {},
          "output_type": "execute_result"
        }
      ],
      "source": [
        "Y_pred"
      ]
    },
    {
      "cell_type": "code",
      "execution_count": 14,
      "metadata": {
        "colab": {
          "base_uri": "https://localhost:8080/"
        },
        "id": "dwRLKMnx5pcq",
        "outputId": "aef561d2-0fff-4919-95e6-19ac0186d363"
      },
      "outputs": [
        {
          "name": "stdout",
          "output_type": "stream",
          "text": [
            "[[431.23 432.75]\n",
            " [460.01 465.63]\n",
            " [461.14 469.97]\n",
            " ...\n",
            " [473.26 475.66]\n",
            " [438.   445.13]\n",
            " [463.28 463.27]]\n"
          ]
        }
      ],
      "source": [
        "results = np.concatenate((Y_test.reshape(len(Y_test), 1), Y_pred), axis = 1)\n",
        "print(results)"
      ]
    },
    {
      "cell_type": "code",
      "execution_count": 15,
      "metadata": {
        "id": "jWUuO2H_5v4z"
      },
      "outputs": [],
      "source": [
        "# Results are good "
      ]
    },
    {
      "cell_type": "code",
      "execution_count": 16,
      "metadata": {
        "colab": {
          "base_uri": "https://localhost:8080/"
        },
        "id": "l7dwiooF6gec",
        "outputId": "62fece79-7df7-438c-8e2b-c5e7d6176852"
      },
      "outputs": [
        {
          "name": "stdout",
          "output_type": "stream",
          "text": [
            "RMSE : 5.756082342547681\n"
          ]
        }
      ],
      "source": [
        "from sklearn.metrics import mean_squared_error\n",
        "mse = mean_squared_error(Y_test, Y_pred)\n",
        "rmse = np.sqrt(mse)\n",
        "print(f\"RMSE : {rmse}\")"
      ]
    }
  ],
  "metadata": {
    "colab": {
      "provenance": []
    },
    "kernelspec": {
      "display_name": "Python 3",
      "name": "python3"
    },
    "language_info": {
      "codemirror_mode": {
        "name": "ipython",
        "version": 3
      },
      "file_extension": ".py",
      "mimetype": "text/x-python",
      "name": "python",
      "nbconvert_exporter": "python",
      "pygments_lexer": "ipython3",
      "version": "3.11.1"
    }
  },
  "nbformat": 4,
  "nbformat_minor": 0
}
