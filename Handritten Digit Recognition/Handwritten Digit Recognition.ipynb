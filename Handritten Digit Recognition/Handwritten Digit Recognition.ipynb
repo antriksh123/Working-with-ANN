{
 "cells": [
  {
   "cell_type": "code",
   "execution_count": 129,
   "metadata": {},
   "outputs": [],
   "source": [
    "import numpy as np\n",
    "import pandas as pd\n",
    "import tensorflow as tf\n",
    "from tensorflow.keras.models import Sequential\n",
    "from tensorflow.keras.layers import Dense\n",
    "from tensorflow.keras.activations import linear, relu"
   ]
  },
  {
   "cell_type": "code",
   "execution_count": 130,
   "metadata": {},
   "outputs": [],
   "source": [
    "train_df = pd.read_csv('train.csv')\n",
    "test_df = pd.read_csv('test.csv')"
   ]
  },
  {
   "cell_type": "code",
   "execution_count": 131,
   "metadata": {},
   "outputs": [
    {
     "data": {
      "text/html": [
       "<div>\n",
       "<style scoped>\n",
       "    .dataframe tbody tr th:only-of-type {\n",
       "        vertical-align: middle;\n",
       "    }\n",
       "\n",
       "    .dataframe tbody tr th {\n",
       "        vertical-align: top;\n",
       "    }\n",
       "\n",
       "    .dataframe thead th {\n",
       "        text-align: right;\n",
       "    }\n",
       "</style>\n",
       "<table border=\"1\" class=\"dataframe\">\n",
       "  <thead>\n",
       "    <tr style=\"text-align: right;\">\n",
       "      <th></th>\n",
       "      <th>label</th>\n",
       "      <th>pixel0</th>\n",
       "      <th>pixel1</th>\n",
       "      <th>pixel2</th>\n",
       "      <th>pixel3</th>\n",
       "      <th>pixel4</th>\n",
       "      <th>pixel5</th>\n",
       "      <th>pixel6</th>\n",
       "      <th>pixel7</th>\n",
       "      <th>pixel8</th>\n",
       "      <th>...</th>\n",
       "      <th>pixel774</th>\n",
       "      <th>pixel775</th>\n",
       "      <th>pixel776</th>\n",
       "      <th>pixel777</th>\n",
       "      <th>pixel778</th>\n",
       "      <th>pixel779</th>\n",
       "      <th>pixel780</th>\n",
       "      <th>pixel781</th>\n",
       "      <th>pixel782</th>\n",
       "      <th>pixel783</th>\n",
       "    </tr>\n",
       "  </thead>\n",
       "  <tbody>\n",
       "    <tr>\n",
       "      <th>0</th>\n",
       "      <td>1</td>\n",
       "      <td>0</td>\n",
       "      <td>0</td>\n",
       "      <td>0</td>\n",
       "      <td>0</td>\n",
       "      <td>0</td>\n",
       "      <td>0</td>\n",
       "      <td>0</td>\n",
       "      <td>0</td>\n",
       "      <td>0</td>\n",
       "      <td>...</td>\n",
       "      <td>0</td>\n",
       "      <td>0</td>\n",
       "      <td>0</td>\n",
       "      <td>0</td>\n",
       "      <td>0</td>\n",
       "      <td>0</td>\n",
       "      <td>0</td>\n",
       "      <td>0</td>\n",
       "      <td>0</td>\n",
       "      <td>0</td>\n",
       "    </tr>\n",
       "    <tr>\n",
       "      <th>1</th>\n",
       "      <td>0</td>\n",
       "      <td>0</td>\n",
       "      <td>0</td>\n",
       "      <td>0</td>\n",
       "      <td>0</td>\n",
       "      <td>0</td>\n",
       "      <td>0</td>\n",
       "      <td>0</td>\n",
       "      <td>0</td>\n",
       "      <td>0</td>\n",
       "      <td>...</td>\n",
       "      <td>0</td>\n",
       "      <td>0</td>\n",
       "      <td>0</td>\n",
       "      <td>0</td>\n",
       "      <td>0</td>\n",
       "      <td>0</td>\n",
       "      <td>0</td>\n",
       "      <td>0</td>\n",
       "      <td>0</td>\n",
       "      <td>0</td>\n",
       "    </tr>\n",
       "    <tr>\n",
       "      <th>2</th>\n",
       "      <td>1</td>\n",
       "      <td>0</td>\n",
       "      <td>0</td>\n",
       "      <td>0</td>\n",
       "      <td>0</td>\n",
       "      <td>0</td>\n",
       "      <td>0</td>\n",
       "      <td>0</td>\n",
       "      <td>0</td>\n",
       "      <td>0</td>\n",
       "      <td>...</td>\n",
       "      <td>0</td>\n",
       "      <td>0</td>\n",
       "      <td>0</td>\n",
       "      <td>0</td>\n",
       "      <td>0</td>\n",
       "      <td>0</td>\n",
       "      <td>0</td>\n",
       "      <td>0</td>\n",
       "      <td>0</td>\n",
       "      <td>0</td>\n",
       "    </tr>\n",
       "    <tr>\n",
       "      <th>3</th>\n",
       "      <td>4</td>\n",
       "      <td>0</td>\n",
       "      <td>0</td>\n",
       "      <td>0</td>\n",
       "      <td>0</td>\n",
       "      <td>0</td>\n",
       "      <td>0</td>\n",
       "      <td>0</td>\n",
       "      <td>0</td>\n",
       "      <td>0</td>\n",
       "      <td>...</td>\n",
       "      <td>0</td>\n",
       "      <td>0</td>\n",
       "      <td>0</td>\n",
       "      <td>0</td>\n",
       "      <td>0</td>\n",
       "      <td>0</td>\n",
       "      <td>0</td>\n",
       "      <td>0</td>\n",
       "      <td>0</td>\n",
       "      <td>0</td>\n",
       "    </tr>\n",
       "    <tr>\n",
       "      <th>4</th>\n",
       "      <td>0</td>\n",
       "      <td>0</td>\n",
       "      <td>0</td>\n",
       "      <td>0</td>\n",
       "      <td>0</td>\n",
       "      <td>0</td>\n",
       "      <td>0</td>\n",
       "      <td>0</td>\n",
       "      <td>0</td>\n",
       "      <td>0</td>\n",
       "      <td>...</td>\n",
       "      <td>0</td>\n",
       "      <td>0</td>\n",
       "      <td>0</td>\n",
       "      <td>0</td>\n",
       "      <td>0</td>\n",
       "      <td>0</td>\n",
       "      <td>0</td>\n",
       "      <td>0</td>\n",
       "      <td>0</td>\n",
       "      <td>0</td>\n",
       "    </tr>\n",
       "  </tbody>\n",
       "</table>\n",
       "<p>5 rows × 785 columns</p>\n",
       "</div>"
      ],
      "text/plain": [
       "   label  pixel0  pixel1  pixel2  pixel3  pixel4  pixel5  pixel6  pixel7  \\\n",
       "0      1       0       0       0       0       0       0       0       0   \n",
       "1      0       0       0       0       0       0       0       0       0   \n",
       "2      1       0       0       0       0       0       0       0       0   \n",
       "3      4       0       0       0       0       0       0       0       0   \n",
       "4      0       0       0       0       0       0       0       0       0   \n",
       "\n",
       "   pixel8  ...  pixel774  pixel775  pixel776  pixel777  pixel778  pixel779  \\\n",
       "0       0  ...         0         0         0         0         0         0   \n",
       "1       0  ...         0         0         0         0         0         0   \n",
       "2       0  ...         0         0         0         0         0         0   \n",
       "3       0  ...         0         0         0         0         0         0   \n",
       "4       0  ...         0         0         0         0         0         0   \n",
       "\n",
       "   pixel780  pixel781  pixel782  pixel783  \n",
       "0         0         0         0         0  \n",
       "1         0         0         0         0  \n",
       "2         0         0         0         0  \n",
       "3         0         0         0         0  \n",
       "4         0         0         0         0  \n",
       "\n",
       "[5 rows x 785 columns]"
      ]
     },
     "execution_count": 131,
     "metadata": {},
     "output_type": "execute_result"
    }
   ],
   "source": [
    "train_df.head()"
   ]
  },
  {
   "cell_type": "code",
   "execution_count": 132,
   "metadata": {},
   "outputs": [
    {
     "name": "stdout",
     "output_type": "stream",
     "text": [
      "<class 'pandas.core.frame.DataFrame'>\n",
      "RangeIndex: 42000 entries, 0 to 41999\n",
      "Columns: 785 entries, label to pixel783\n",
      "dtypes: int64(785)\n",
      "memory usage: 251.5 MB\n"
     ]
    }
   ],
   "source": [
    "train_df.info()"
   ]
  },
  {
   "cell_type": "code",
   "execution_count": 133,
   "metadata": {},
   "outputs": [
    {
     "data": {
      "text/plain": [
       "label       0\n",
       "pixel0      0\n",
       "pixel1      0\n",
       "pixel2      0\n",
       "pixel3      0\n",
       "           ..\n",
       "pixel779    0\n",
       "pixel780    0\n",
       "pixel781    0\n",
       "pixel782    0\n",
       "pixel783    0\n",
       "Length: 785, dtype: int64"
      ]
     },
     "execution_count": 133,
     "metadata": {},
     "output_type": "execute_result"
    }
   ],
   "source": [
    "train_df.isnull().sum()\n",
    "# No Null value "
   ]
  },
  {
   "cell_type": "code",
   "execution_count": 134,
   "metadata": {},
   "outputs": [
    {
     "data": {
      "text/plain": [
       "(28000, 784)"
      ]
     },
     "execution_count": 134,
     "metadata": {},
     "output_type": "execute_result"
    }
   ],
   "source": [
    "X_train = train_df.iloc[:, 1:]\n",
    "Y_train = train_df.iloc[:, :1]\n",
    "test_df.shape"
   ]
  },
  {
   "cell_type": "code",
   "execution_count": 135,
   "metadata": {},
   "outputs": [],
   "source": [
    "# we are using artificial neural network\n",
    "ann = Sequential()\n",
    "ann.add(Dense(units = 128, activation = 'relu'))\n",
    "ann.add(Dense(units = 64, activation = 'relu'))\n",
    "ann.add(Dense(units = 32, activation = 'relu'))\n",
    "ann.add(Dense(units = 16, activation = 'relu'))\n",
    "ann.add(Dense(units = 10, activation = 'linear'))"
   ]
  },
  {
   "cell_type": "code",
   "execution_count": 136,
   "metadata": {},
   "outputs": [],
   "source": [
    "ann.compile(\n",
    "    loss=tf.keras.losses.SparseCategoricalCrossentropy(from_logits=True),\n",
    "    optimizer=tf.keras.optimizers.Adam(learning_rate=0.0005),\n",
    ")"
   ]
  },
  {
   "cell_type": "code",
   "execution_count": 137,
   "metadata": {},
   "outputs": [
    {
     "name": "stdout",
     "output_type": "stream",
     "text": [
      "Epoch 1/100\n",
      "1313/1313 [==============================] - 3s 2ms/step - loss: 2.0567\n",
      "Epoch 2/100\n",
      "1313/1313 [==============================] - 2s 2ms/step - loss: 0.6964\n",
      "Epoch 3/100\n",
      "1313/1313 [==============================] - 2s 2ms/step - loss: 0.4863\n",
      "Epoch 4/100\n",
      "1313/1313 [==============================] - 2s 2ms/step - loss: 0.3101\n",
      "Epoch 5/100\n",
      "1313/1313 [==============================] - 2s 2ms/step - loss: 0.2167\n",
      "Epoch 6/100\n",
      "1313/1313 [==============================] - 2s 2ms/step - loss: 0.1680\n",
      "Epoch 7/100\n",
      "1313/1313 [==============================] - 3s 2ms/step - loss: 0.1383\n",
      "Epoch 8/100\n",
      "1313/1313 [==============================] - 2s 2ms/step - loss: 0.1154\n",
      "Epoch 9/100\n",
      "1313/1313 [==============================] - 2s 2ms/step - loss: 0.0981\n",
      "Epoch 10/100\n",
      "1313/1313 [==============================] - 2s 2ms/step - loss: 0.0846\n",
      "Epoch 11/100\n",
      "1313/1313 [==============================] - 2s 2ms/step - loss: 0.0773\n",
      "Epoch 12/100\n",
      "1313/1313 [==============================] - 2s 2ms/step - loss: 0.0627\n",
      "Epoch 13/100\n",
      "1313/1313 [==============================] - 3s 2ms/step - loss: 0.0620\n",
      "Epoch 14/100\n",
      "1313/1313 [==============================] - 2s 2ms/step - loss: 0.0525\n",
      "Epoch 15/100\n",
      "1313/1313 [==============================] - 2s 2ms/step - loss: 0.0480\n",
      "Epoch 16/100\n",
      "1313/1313 [==============================] - 3s 2ms/step - loss: 0.0462\n",
      "Epoch 17/100\n",
      "1313/1313 [==============================] - 3s 2ms/step - loss: 0.0448\n",
      "Epoch 18/100\n",
      "1313/1313 [==============================] - 2s 2ms/step - loss: 0.0367\n",
      "Epoch 19/100\n",
      "1313/1313 [==============================] - 2s 2ms/step - loss: 0.0363\n",
      "Epoch 20/100\n",
      "1313/1313 [==============================] - 2s 2ms/step - loss: 0.0332\n",
      "Epoch 21/100\n",
      "1313/1313 [==============================] - 2s 2ms/step - loss: 0.0333\n",
      "Epoch 22/100\n",
      "1313/1313 [==============================] - 3s 2ms/step - loss: 0.0258\n",
      "Epoch 23/100\n",
      "1313/1313 [==============================] - 2s 2ms/step - loss: 0.0281\n",
      "Epoch 24/100\n",
      "1313/1313 [==============================] - 2s 2ms/step - loss: 0.0263\n",
      "Epoch 25/100\n",
      "1313/1313 [==============================] - 2s 2ms/step - loss: 0.0253\n",
      "Epoch 26/100\n",
      "1313/1313 [==============================] - 2s 2ms/step - loss: 0.0229\n",
      "Epoch 27/100\n",
      "1313/1313 [==============================] - 2s 2ms/step - loss: 0.0218\n",
      "Epoch 28/100\n",
      "1313/1313 [==============================] - 2s 2ms/step - loss: 0.0248\n",
      "Epoch 29/100\n",
      "1313/1313 [==============================] - 2s 2ms/step - loss: 0.0249\n",
      "Epoch 30/100\n",
      "1313/1313 [==============================] - 3s 2ms/step - loss: 0.0237\n",
      "Epoch 31/100\n",
      "1313/1313 [==============================] - 2s 2ms/step - loss: 0.0205\n",
      "Epoch 32/100\n",
      "1313/1313 [==============================] - 3s 2ms/step - loss: 0.0201\n",
      "Epoch 33/100\n",
      "1313/1313 [==============================] - 2s 2ms/step - loss: 0.0189\n",
      "Epoch 34/100\n",
      "1313/1313 [==============================] - 2s 2ms/step - loss: 0.0186\n",
      "Epoch 35/100\n",
      "1313/1313 [==============================] - 2s 2ms/step - loss: 0.0194\n",
      "Epoch 36/100\n",
      "1313/1313 [==============================] - 2s 2ms/step - loss: 0.0177\n",
      "Epoch 37/100\n",
      "1313/1313 [==============================] - 2s 2ms/step - loss: 0.0173\n",
      "Epoch 38/100\n",
      "1313/1313 [==============================] - 3s 2ms/step - loss: 0.0179\n",
      "Epoch 39/100\n",
      "1313/1313 [==============================] - 3s 2ms/step - loss: 0.0140\n",
      "Epoch 40/100\n",
      "1313/1313 [==============================] - 2s 2ms/step - loss: 0.0128\n",
      "Epoch 41/100\n",
      "1313/1313 [==============================] - 2s 2ms/step - loss: 0.0186\n",
      "Epoch 42/100\n",
      "1313/1313 [==============================] - 2s 2ms/step - loss: 0.0179\n",
      "Epoch 43/100\n",
      "1313/1313 [==============================] - 2s 2ms/step - loss: 0.0162\n",
      "Epoch 44/100\n",
      "1313/1313 [==============================] - 3s 2ms/step - loss: 0.0143\n",
      "Epoch 45/100\n",
      "1313/1313 [==============================] - 3s 2ms/step - loss: 0.0155\n",
      "Epoch 46/100\n",
      "1313/1313 [==============================] - 3s 2ms/step - loss: 0.0102\n",
      "Epoch 47/100\n",
      "1313/1313 [==============================] - 3s 2ms/step - loss: 0.0156\n",
      "Epoch 48/100\n",
      "1313/1313 [==============================] - 2s 2ms/step - loss: 0.0169\n",
      "Epoch 49/100\n",
      "1313/1313 [==============================] - 2s 2ms/step - loss: 0.0091\n",
      "Epoch 50/100\n",
      "1313/1313 [==============================] - 3s 2ms/step - loss: 0.0153\n",
      "Epoch 51/100\n",
      "1313/1313 [==============================] - 2s 2ms/step - loss: 0.0146\n",
      "Epoch 52/100\n",
      "1313/1313 [==============================] - 3s 2ms/step - loss: 0.0129\n",
      "Epoch 53/100\n",
      "1313/1313 [==============================] - 3s 3ms/step - loss: 0.0153\n",
      "Epoch 54/100\n",
      "1313/1313 [==============================] - 3s 2ms/step - loss: 0.0130\n",
      "Epoch 55/100\n",
      "1313/1313 [==============================] - 6s 5ms/step - loss: 0.0117\n",
      "Epoch 56/100\n",
      "1313/1313 [==============================] - 4s 3ms/step - loss: 0.0124\n",
      "Epoch 57/100\n",
      "1313/1313 [==============================] - 3s 2ms/step - loss: 0.0106\n",
      "Epoch 58/100\n",
      "1313/1313 [==============================] - 3s 2ms/step - loss: 0.0107\n",
      "Epoch 59/100\n",
      "1313/1313 [==============================] - 3s 2ms/step - loss: 0.0175\n",
      "Epoch 60/100\n",
      "1313/1313 [==============================] - 3s 2ms/step - loss: 0.0075\n",
      "Epoch 61/100\n",
      "1313/1313 [==============================] - 3s 2ms/step - loss: 0.0107\n",
      "Epoch 62/100\n",
      "1313/1313 [==============================] - 3s 2ms/step - loss: 0.0088\n",
      "Epoch 63/100\n",
      "1313/1313 [==============================] - 3s 2ms/step - loss: 0.0080\n",
      "Epoch 64/100\n",
      "1313/1313 [==============================] - 3s 2ms/step - loss: 0.0135\n",
      "Epoch 65/100\n",
      "1313/1313 [==============================] - 3s 2ms/step - loss: 0.0102\n",
      "Epoch 66/100\n",
      "1313/1313 [==============================] - 3s 2ms/step - loss: 0.0123\n",
      "Epoch 67/100\n",
      "1313/1313 [==============================] - 3s 2ms/step - loss: 0.0129\n",
      "Epoch 68/100\n",
      "1313/1313 [==============================] - 3s 2ms/step - loss: 0.0128\n",
      "Epoch 69/100\n",
      "1313/1313 [==============================] - 3s 2ms/step - loss: 0.0078\n",
      "Epoch 70/100\n",
      "1313/1313 [==============================] - 3s 2ms/step - loss: 0.0104\n",
      "Epoch 71/100\n",
      "1313/1313 [==============================] - 3s 2ms/step - loss: 0.0088\n",
      "Epoch 72/100\n",
      "1313/1313 [==============================] - 2s 2ms/step - loss: 0.0118\n",
      "Epoch 73/100\n",
      "1313/1313 [==============================] - 3s 2ms/step - loss: 0.0071\n",
      "Epoch 74/100\n",
      "1313/1313 [==============================] - 2s 2ms/step - loss: 0.0089\n",
      "Epoch 75/100\n",
      "1313/1313 [==============================] - 3s 2ms/step - loss: 0.0074\n",
      "Epoch 76/100\n",
      "1313/1313 [==============================] - 3s 2ms/step - loss: 0.0083\n",
      "Epoch 77/100\n",
      "1313/1313 [==============================] - 3s 2ms/step - loss: 0.0099\n",
      "Epoch 78/100\n",
      "1313/1313 [==============================] - 3s 2ms/step - loss: 0.0162\n",
      "Epoch 79/100\n",
      "1313/1313 [==============================] - 3s 2ms/step - loss: 0.0064\n",
      "Epoch 80/100\n",
      "1313/1313 [==============================] - 3s 2ms/step - loss: 0.0077\n",
      "Epoch 81/100\n",
      "1313/1313 [==============================] - 3s 2ms/step - loss: 0.0079\n",
      "Epoch 82/100\n",
      "1313/1313 [==============================] - 2s 2ms/step - loss: 0.0103\n",
      "Epoch 83/100\n",
      "1313/1313 [==============================] - 3s 2ms/step - loss: 0.0096\n",
      "Epoch 84/100\n",
      "1313/1313 [==============================] - 3s 2ms/step - loss: 0.0147\n",
      "Epoch 85/100\n",
      "1313/1313 [==============================] - 3s 2ms/step - loss: 0.0114\n",
      "Epoch 86/100\n",
      "1313/1313 [==============================] - 2s 2ms/step - loss: 0.0069\n",
      "Epoch 87/100\n",
      "1313/1313 [==============================] - 3s 2ms/step - loss: 0.0081\n",
      "Epoch 88/100\n",
      "1313/1313 [==============================] - 2s 2ms/step - loss: 0.0069\n",
      "Epoch 89/100\n",
      "1313/1313 [==============================] - 3s 2ms/step - loss: 0.0082\n",
      "Epoch 90/100\n",
      "1313/1313 [==============================] - 3s 2ms/step - loss: 0.0097\n",
      "Epoch 91/100\n",
      "1313/1313 [==============================] - 3s 2ms/step - loss: 0.0089\n",
      "Epoch 92/100\n",
      "1313/1313 [==============================] - 3s 2ms/step - loss: 0.0063\n",
      "Epoch 93/100\n",
      "1313/1313 [==============================] - 3s 2ms/step - loss: 0.0162\n",
      "Epoch 94/100\n",
      "1313/1313 [==============================] - 3s 2ms/step - loss: 0.0054\n",
      "Epoch 95/100\n",
      "1313/1313 [==============================] - 3s 2ms/step - loss: 0.0118\n",
      "Epoch 96/100\n",
      "1313/1313 [==============================] - 3s 2ms/step - loss: 0.0087\n",
      "Epoch 97/100\n",
      "1313/1313 [==============================] - 3s 2ms/step - loss: 0.0043\n",
      "Epoch 98/100\n",
      "1313/1313 [==============================] - 3s 2ms/step - loss: 0.0087\n",
      "Epoch 99/100\n",
      "1313/1313 [==============================] - 3s 2ms/step - loss: 0.0075\n",
      "Epoch 100/100\n",
      "1313/1313 [==============================] - 3s 2ms/step - loss: 0.0050\n"
     ]
    },
    {
     "data": {
      "text/plain": [
       "<keras.callbacks.History at 0x1e68db57f10>"
      ]
     },
     "execution_count": 137,
     "metadata": {},
     "output_type": "execute_result"
    }
   ],
   "source": [
    "ann.fit(X_train, Y_train, batch_size=32, epochs=100)"
   ]
  },
  {
   "cell_type": "code",
   "execution_count": 138,
   "metadata": {},
   "outputs": [
    {
     "name": "stdout",
     "output_type": "stream",
     "text": [
      "Model: \"sequential_8\"\n",
      "_________________________________________________________________\n",
      " Layer (type)                Output Shape              Param #   \n",
      "=================================================================\n",
      " dense_25 (Dense)            (None, 128)               100480    \n",
      "                                                                 \n",
      " dense_26 (Dense)            (None, 64)                8256      \n",
      "                                                                 \n",
      " dense_27 (Dense)            (None, 32)                2080      \n",
      "                                                                 \n",
      " dense_28 (Dense)            (None, 16)                528       \n",
      "                                                                 \n",
      " dense_29 (Dense)            (None, 10)                170       \n",
      "                                                                 \n",
      "=================================================================\n",
      "Total params: 111,514\n",
      "Trainable params: 111,514\n",
      "Non-trainable params: 0\n",
      "_________________________________________________________________\n"
     ]
    }
   ],
   "source": [
    "ann.summary()"
   ]
  },
  {
   "cell_type": "code",
   "execution_count": 139,
   "metadata": {},
   "outputs": [
    {
     "name": "stdout",
     "output_type": "stream",
     "text": [
      "875/875 [==============================] - 1s 958us/step\n"
     ]
    }
   ],
   "source": [
    "Y_pred = ann.predict(test_df)"
   ]
  },
  {
   "cell_type": "code",
   "execution_count": 140,
   "metadata": {},
   "outputs": [],
   "source": [
    "Y_pred = tf.nn.softmax(Y_pred)"
   ]
  },
  {
   "cell_type": "code",
   "execution_count": 141,
   "metadata": {},
   "outputs": [],
   "source": [
    "Label = np.argmax(Y_pred, axis=1)"
   ]
  },
  {
   "cell_type": "code",
   "execution_count": 142,
   "metadata": {},
   "outputs": [
    {
     "data": {
      "text/plain": [
       "array([2, 0, 9, ..., 3, 9, 2], dtype=int64)"
      ]
     },
     "execution_count": 142,
     "metadata": {},
     "output_type": "execute_result"
    }
   ],
   "source": [
    "Label"
   ]
  },
  {
   "cell_type": "code",
   "execution_count": 143,
   "metadata": {},
   "outputs": [
    {
     "name": "stdout",
     "output_type": "stream",
     "text": [
      "CSV file created successfully.\n"
     ]
    }
   ],
   "source": [
    "import csv\n",
    "ImageId = np.arange(1, len(Label) + 1)\n",
    "data = list(zip(ImageId, Label))\n",
    "csv_file = 'predictions.csv'\n",
    "with open(csv_file, 'w', newline='') as file:\n",
    "    writer = csv.writer(file)\n",
    "    writer.writerow([\"ImageId\", \"Label\"])  # Write header\n",
    "    writer.writerows(data)  # Write data rows\n",
    "\n",
    "print(\"CSV file created successfully.\")"
   ]
  },
  {
   "cell_type": "code",
   "execution_count": 1,
   "metadata": {},
   "outputs": [
    {
     "data": {
      "image/png": "[encoded data removed]",
      "text/plain": [
       "<Figure size 640x480 with 1 Axes>"
      ]
     },
     "metadata": {},
     "output_type": "display_data"
    }
   ],
   "source": [
    "import matplotlib.pyplot as plt\n",
    "\n",
    "data = [\n",
    "    [7, 26, 7], [7, 18, 4], [3, 10, 7], [17, 50, 1], [3, 25, 10],\n",
    "    [85, 23, 8], [80, 50, 1], [58, 74, 1], [38, 39, 7], [50, 51, 8],\n",
    "    [31, 99, 3], [53, 6, 5], [59, 27, 10], [87, 78, 9], [68, 58, 3]\n",
    "]\n",
    "\n",
    "fig, ax = plt.subplots()\n",
    "\n",
    "# Plot each point\n",
    "for point in data:\n",
    "    x, y, radius = point\n",
    "    circle = plt.Circle((x, y), radius, color='b', alpha=0.5)\n",
    "    ax.add_artist(circle)\n",
    "\n",
    "# Set plot limits\n",
    "ax.set_xlim(0, 100)\n",
    "ax.set_ylim(0, 100)\n",
    "\n",
    "# Set labels\n",
    "ax.set_xlabel('X')\n",
    "ax.set_ylabel('Y')\n",
    "\n",
    "# Set title\n",
    "ax.set_title('Points with Radius')\n",
    "\n",
    "# Display the plot\n",
    "plt.show()\n"
   ]
  },
  {
   "cell_type": "code",
   "execution_count": null,
   "metadata": {},
   "outputs": [],
   "source": []
  }
 ],
 "metadata": {
  "kernelspec": {
   "display_name": "Python 3",
   "language": "python",
   "name": "python3"
  },
  "language_info": {
   "codemirror_mode": {
    "name": "ipython",
    "version": 3
   },
   "file_extension": ".py",
   "mimetype": "text/x-python",
   "name": "python",
   "nbconvert_exporter": "python",
   "pygments_lexer": "ipython3",
   "version": "3.11.1"
  },
  "orig_nbformat": 4
 },
 "nbformat": 4,
 "nbformat_minor": 2
}
