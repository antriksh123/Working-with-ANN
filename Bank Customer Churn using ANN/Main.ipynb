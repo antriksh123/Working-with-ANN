{
 "cells": [
  {
   "attachments": {},
   "cell_type": "markdown",
   "metadata": {},
   "source": [
    "## Chrurn Prediction using ANN"
   ]
  },
  {
   "attachments": {},
   "cell_type": "markdown",
   "metadata": {},
   "source": [
    "### Importing Libraries "
   ]
  },
  {
   "cell_type": "code",
   "execution_count": 54,
   "metadata": {},
   "outputs": [],
   "source": [
    "import pandas as pd\n",
    "import matplotlib.pyplot as plt \n",
    "import numpy as np\n",
    "import tensorflow as tf "
   ]
  },
  {
   "attachments": {},
   "cell_type": "markdown",
   "metadata": {},
   "source": [
    "### Data Preprocessing"
   ]
  },
  {
   "attachments": {},
   "cell_type": "markdown",
   "metadata": {},
   "source": [
    "Importing data "
   ]
  },
  {
   "cell_type": "code",
   "execution_count": 55,
   "metadata": {},
   "outputs": [
    {
     "data": {
      "text/plain": [
       "'2.12.0'"
      ]
     },
     "execution_count": 55,
     "metadata": {},
     "output_type": "execute_result"
    }
   ],
   "source": [
    "tf.__version__\n",
    "# get the version of tensorflow "
   ]
  },
  {
   "cell_type": "code",
   "execution_count": 56,
   "metadata": {},
   "outputs": [],
   "source": [
    "df = pd.read_csv(\"Churn_Modelling.csv\")"
   ]
  },
  {
   "cell_type": "code",
   "execution_count": 57,
   "metadata": {},
   "outputs": [
    {
     "data": {
      "text/html": [
       "<div>\n",
       "<style scoped>\n",
       "    .dataframe tbody tr th:only-of-type {\n",
       "        vertical-align: middle;\n",
       "    }\n",
       "\n",
       "    .dataframe tbody tr th {\n",
       "        vertical-align: top;\n",
       "    }\n",
       "\n",
       "    .dataframe thead th {\n",
       "        text-align: right;\n",
       "    }\n",
       "</style>\n",
       "<table border=\"1\" class=\"dataframe\">\n",
       "  <thead>\n",
       "    <tr style=\"text-align: right;\">\n",
       "      <th></th>\n",
       "      <th>RowNumber</th>\n",
       "      <th>CustomerId</th>\n",
       "      <th>Surname</th>\n",
       "      <th>CreditScore</th>\n",
       "      <th>Geography</th>\n",
       "      <th>Gender</th>\n",
       "      <th>Age</th>\n",
       "      <th>Tenure</th>\n",
       "      <th>Balance</th>\n",
       "      <th>NumOfProducts</th>\n",
       "      <th>HasCrCard</th>\n",
       "      <th>IsActiveMember</th>\n",
       "      <th>EstimatedSalary</th>\n",
       "      <th>Exited</th>\n",
       "    </tr>\n",
       "  </thead>\n",
       "  <tbody>\n",
       "    <tr>\n",
       "      <th>0</th>\n",
       "      <td>1</td>\n",
       "      <td>15634602</td>\n",
       "      <td>Hargrave</td>\n",
       "      <td>619</td>\n",
       "      <td>France</td>\n",
       "      <td>Female</td>\n",
       "      <td>42</td>\n",
       "      <td>2</td>\n",
       "      <td>0.00</td>\n",
       "      <td>1</td>\n",
       "      <td>1</td>\n",
       "      <td>1</td>\n",
       "      <td>101348.88</td>\n",
       "      <td>1</td>\n",
       "    </tr>\n",
       "    <tr>\n",
       "      <th>1</th>\n",
       "      <td>2</td>\n",
       "      <td>15647311</td>\n",
       "      <td>Hill</td>\n",
       "      <td>608</td>\n",
       "      <td>Spain</td>\n",
       "      <td>Female</td>\n",
       "      <td>41</td>\n",
       "      <td>1</td>\n",
       "      <td>83807.86</td>\n",
       "      <td>1</td>\n",
       "      <td>0</td>\n",
       "      <td>1</td>\n",
       "      <td>112542.58</td>\n",
       "      <td>0</td>\n",
       "    </tr>\n",
       "    <tr>\n",
       "      <th>2</th>\n",
       "      <td>3</td>\n",
       "      <td>15619304</td>\n",
       "      <td>Onio</td>\n",
       "      <td>502</td>\n",
       "      <td>France</td>\n",
       "      <td>Female</td>\n",
       "      <td>42</td>\n",
       "      <td>8</td>\n",
       "      <td>159660.80</td>\n",
       "      <td>3</td>\n",
       "      <td>1</td>\n",
       "      <td>0</td>\n",
       "      <td>113931.57</td>\n",
       "      <td>1</td>\n",
       "    </tr>\n",
       "    <tr>\n",
       "      <th>3</th>\n",
       "      <td>4</td>\n",
       "      <td>15701354</td>\n",
       "      <td>Boni</td>\n",
       "      <td>699</td>\n",
       "      <td>France</td>\n",
       "      <td>Female</td>\n",
       "      <td>39</td>\n",
       "      <td>1</td>\n",
       "      <td>0.00</td>\n",
       "      <td>2</td>\n",
       "      <td>0</td>\n",
       "      <td>0</td>\n",
       "      <td>93826.63</td>\n",
       "      <td>0</td>\n",
       "    </tr>\n",
       "    <tr>\n",
       "      <th>4</th>\n",
       "      <td>5</td>\n",
       "      <td>15737888</td>\n",
       "      <td>Mitchell</td>\n",
       "      <td>850</td>\n",
       "      <td>Spain</td>\n",
       "      <td>Female</td>\n",
       "      <td>43</td>\n",
       "      <td>2</td>\n",
       "      <td>125510.82</td>\n",
       "      <td>1</td>\n",
       "      <td>1</td>\n",
       "      <td>1</td>\n",
       "      <td>79084.10</td>\n",
       "      <td>0</td>\n",
       "    </tr>\n",
       "  </tbody>\n",
       "</table>\n",
       "</div>"
      ],
      "text/plain": [
       "   RowNumber  CustomerId   Surname  CreditScore Geography  Gender  Age  \\\n",
       "0          1    15634602  Hargrave          619    France  Female   42   \n",
       "1          2    15647311      Hill          608     Spain  Female   41   \n",
       "2          3    15619304      Onio          502    France  Female   42   \n",
       "3          4    15701354      Boni          699    France  Female   39   \n",
       "4          5    15737888  Mitchell          850     Spain  Female   43   \n",
       "\n",
       "   Tenure    Balance  NumOfProducts  HasCrCard  IsActiveMember  \\\n",
       "0       2       0.00              1          1               1   \n",
       "1       1   83807.86              1          0               1   \n",
       "2       8  159660.80              3          1               0   \n",
       "3       1       0.00              2          0               0   \n",
       "4       2  125510.82              1          1               1   \n",
       "\n",
       "   EstimatedSalary  Exited  \n",
       "0        101348.88       1  \n",
       "1        112542.58       0  \n",
       "2        113931.57       1  \n",
       "3         93826.63       0  \n",
       "4         79084.10       0  "
      ]
     },
     "execution_count": 57,
     "metadata": {},
     "output_type": "execute_result"
    }
   ],
   "source": [
    "df.head()"
   ]
  },
  {
   "cell_type": "code",
   "execution_count": 58,
   "metadata": {},
   "outputs": [
    {
     "data": {
      "text/plain": [
       "RowNumber          0\n",
       "CustomerId         0\n",
       "Surname            0\n",
       "CreditScore        0\n",
       "Geography          0\n",
       "Gender             0\n",
       "Age                0\n",
       "Tenure             0\n",
       "Balance            0\n",
       "NumOfProducts      0\n",
       "HasCrCard          0\n",
       "IsActiveMember     0\n",
       "EstimatedSalary    0\n",
       "Exited             0\n",
       "dtype: int64"
      ]
     },
     "execution_count": 58,
     "metadata": {},
     "output_type": "execute_result"
    }
   ],
   "source": [
    "df.isnull().sum()"
   ]
  },
  {
   "cell_type": "code",
   "execution_count": 59,
   "metadata": {},
   "outputs": [],
   "source": [
    "# skip rownumber, customerID, and surname.\n",
    "X = df.iloc[:, 3:-1]\n",
    "Y = df.iloc[:, -1]"
   ]
  },
  {
   "cell_type": "code",
   "execution_count": 60,
   "metadata": {},
   "outputs": [
    {
     "data": {
      "text/html": [
       "<div>\n",
       "<style scoped>\n",
       "    .dataframe tbody tr th:only-of-type {\n",
       "        vertical-align: middle;\n",
       "    }\n",
       "\n",
       "    .dataframe tbody tr th {\n",
       "        vertical-align: top;\n",
       "    }\n",
       "\n",
       "    .dataframe thead th {\n",
       "        text-align: right;\n",
       "    }\n",
       "</style>\n",
       "<table border=\"1\" class=\"dataframe\">\n",
       "  <thead>\n",
       "    <tr style=\"text-align: right;\">\n",
       "      <th></th>\n",
       "      <th>CreditScore</th>\n",
       "      <th>Geography</th>\n",
       "      <th>Gender</th>\n",
       "      <th>Age</th>\n",
       "      <th>Tenure</th>\n",
       "      <th>Balance</th>\n",
       "      <th>NumOfProducts</th>\n",
       "      <th>HasCrCard</th>\n",
       "      <th>IsActiveMember</th>\n",
       "      <th>EstimatedSalary</th>\n",
       "    </tr>\n",
       "  </thead>\n",
       "  <tbody>\n",
       "    <tr>\n",
       "      <th>0</th>\n",
       "      <td>619</td>\n",
       "      <td>France</td>\n",
       "      <td>Female</td>\n",
       "      <td>42</td>\n",
       "      <td>2</td>\n",
       "      <td>0.00</td>\n",
       "      <td>1</td>\n",
       "      <td>1</td>\n",
       "      <td>1</td>\n",
       "      <td>101348.88</td>\n",
       "    </tr>\n",
       "    <tr>\n",
       "      <th>1</th>\n",
       "      <td>608</td>\n",
       "      <td>Spain</td>\n",
       "      <td>Female</td>\n",
       "      <td>41</td>\n",
       "      <td>1</td>\n",
       "      <td>83807.86</td>\n",
       "      <td>1</td>\n",
       "      <td>0</td>\n",
       "      <td>1</td>\n",
       "      <td>112542.58</td>\n",
       "    </tr>\n",
       "    <tr>\n",
       "      <th>2</th>\n",
       "      <td>502</td>\n",
       "      <td>France</td>\n",
       "      <td>Female</td>\n",
       "      <td>42</td>\n",
       "      <td>8</td>\n",
       "      <td>159660.80</td>\n",
       "      <td>3</td>\n",
       "      <td>1</td>\n",
       "      <td>0</td>\n",
       "      <td>113931.57</td>\n",
       "    </tr>\n",
       "    <tr>\n",
       "      <th>3</th>\n",
       "      <td>699</td>\n",
       "      <td>France</td>\n",
       "      <td>Female</td>\n",
       "      <td>39</td>\n",
       "      <td>1</td>\n",
       "      <td>0.00</td>\n",
       "      <td>2</td>\n",
       "      <td>0</td>\n",
       "      <td>0</td>\n",
       "      <td>93826.63</td>\n",
       "    </tr>\n",
       "    <tr>\n",
       "      <th>4</th>\n",
       "      <td>850</td>\n",
       "      <td>Spain</td>\n",
       "      <td>Female</td>\n",
       "      <td>43</td>\n",
       "      <td>2</td>\n",
       "      <td>125510.82</td>\n",
       "      <td>1</td>\n",
       "      <td>1</td>\n",
       "      <td>1</td>\n",
       "      <td>79084.10</td>\n",
       "    </tr>\n",
       "  </tbody>\n",
       "</table>\n",
       "</div>"
      ],
      "text/plain": [
       "   CreditScore Geography  Gender  Age  Tenure    Balance  NumOfProducts  \\\n",
       "0          619    France  Female   42       2       0.00              1   \n",
       "1          608     Spain  Female   41       1   83807.86              1   \n",
       "2          502    France  Female   42       8  159660.80              3   \n",
       "3          699    France  Female   39       1       0.00              2   \n",
       "4          850     Spain  Female   43       2  125510.82              1   \n",
       "\n",
       "   HasCrCard  IsActiveMember  EstimatedSalary  \n",
       "0          1               1        101348.88  \n",
       "1          0               1        112542.58  \n",
       "2          1               0        113931.57  \n",
       "3          0               0         93826.63  \n",
       "4          1               1         79084.10  "
      ]
     },
     "execution_count": 60,
     "metadata": {},
     "output_type": "execute_result"
    }
   ],
   "source": [
    "X.head()"
   ]
  },
  {
   "cell_type": "code",
   "execution_count": 61,
   "metadata": {},
   "outputs": [
    {
     "data": {
      "text/plain": [
       "0    1\n",
       "1    0\n",
       "2    1\n",
       "3    0\n",
       "4    0\n",
       "Name: Exited, dtype: int64"
      ]
     },
     "execution_count": 61,
     "metadata": {},
     "output_type": "execute_result"
    }
   ],
   "source": [
    "Y.head()"
   ]
  },
  {
   "attachments": {},
   "cell_type": "markdown",
   "metadata": {},
   "source": [
    "Encoding the categorical data - Gender and Geography "
   ]
  },
  {
   "cell_type": "code",
   "execution_count": 62,
   "metadata": {},
   "outputs": [
    {
     "name": "stderr",
     "output_type": "stream",
     "text": [
      "C:\\Users\\Antriksh\\AppData\\Local\\Temp\\ipykernel_30936\\862313144.py:4: FutureWarning: In a future version, `df.iloc[:, i] = newvals` will attempt to set the values inplace instead of always setting a new array. To retain the old behavior, use either `df[df.columns[i]] = newvals` or, if columns are non-unique, `df.isetitem(i, newvals)`\n",
      "  X.iloc[:, 2] = le.fit_transform(X.iloc[:, 2])\n"
     ]
    }
   ],
   "source": [
    "# encoding gender \n",
    "from sklearn.preprocessing import LabelEncoder\n",
    "le = LabelEncoder()\n",
    "X.iloc[:, 2] = le.fit_transform(X.iloc[:, 2])"
   ]
  },
  {
   "cell_type": "code",
   "execution_count": 63,
   "metadata": {},
   "outputs": [
    {
     "data": {
      "text/html": [
       "<div>\n",
       "<style scoped>\n",
       "    .dataframe tbody tr th:only-of-type {\n",
       "        vertical-align: middle;\n",
       "    }\n",
       "\n",
       "    .dataframe tbody tr th {\n",
       "        vertical-align: top;\n",
       "    }\n",
       "\n",
       "    .dataframe thead th {\n",
       "        text-align: right;\n",
       "    }\n",
       "</style>\n",
       "<table border=\"1\" class=\"dataframe\">\n",
       "  <thead>\n",
       "    <tr style=\"text-align: right;\">\n",
       "      <th></th>\n",
       "      <th>CreditScore</th>\n",
       "      <th>Geography</th>\n",
       "      <th>Gender</th>\n",
       "      <th>Age</th>\n",
       "      <th>Tenure</th>\n",
       "      <th>Balance</th>\n",
       "      <th>NumOfProducts</th>\n",
       "      <th>HasCrCard</th>\n",
       "      <th>IsActiveMember</th>\n",
       "      <th>EstimatedSalary</th>\n",
       "    </tr>\n",
       "  </thead>\n",
       "  <tbody>\n",
       "    <tr>\n",
       "      <th>0</th>\n",
       "      <td>619</td>\n",
       "      <td>France</td>\n",
       "      <td>0</td>\n",
       "      <td>42</td>\n",
       "      <td>2</td>\n",
       "      <td>0.00</td>\n",
       "      <td>1</td>\n",
       "      <td>1</td>\n",
       "      <td>1</td>\n",
       "      <td>101348.88</td>\n",
       "    </tr>\n",
       "    <tr>\n",
       "      <th>1</th>\n",
       "      <td>608</td>\n",
       "      <td>Spain</td>\n",
       "      <td>0</td>\n",
       "      <td>41</td>\n",
       "      <td>1</td>\n",
       "      <td>83807.86</td>\n",
       "      <td>1</td>\n",
       "      <td>0</td>\n",
       "      <td>1</td>\n",
       "      <td>112542.58</td>\n",
       "    </tr>\n",
       "    <tr>\n",
       "      <th>2</th>\n",
       "      <td>502</td>\n",
       "      <td>France</td>\n",
       "      <td>0</td>\n",
       "      <td>42</td>\n",
       "      <td>8</td>\n",
       "      <td>159660.80</td>\n",
       "      <td>3</td>\n",
       "      <td>1</td>\n",
       "      <td>0</td>\n",
       "      <td>113931.57</td>\n",
       "    </tr>\n",
       "    <tr>\n",
       "      <th>3</th>\n",
       "      <td>699</td>\n",
       "      <td>France</td>\n",
       "      <td>0</td>\n",
       "      <td>39</td>\n",
       "      <td>1</td>\n",
       "      <td>0.00</td>\n",
       "      <td>2</td>\n",
       "      <td>0</td>\n",
       "      <td>0</td>\n",
       "      <td>93826.63</td>\n",
       "    </tr>\n",
       "    <tr>\n",
       "      <th>4</th>\n",
       "      <td>850</td>\n",
       "      <td>Spain</td>\n",
       "      <td>0</td>\n",
       "      <td>43</td>\n",
       "      <td>2</td>\n",
       "      <td>125510.82</td>\n",
       "      <td>1</td>\n",
       "      <td>1</td>\n",
       "      <td>1</td>\n",
       "      <td>79084.10</td>\n",
       "    </tr>\n",
       "  </tbody>\n",
       "</table>\n",
       "</div>"
      ],
      "text/plain": [
       "   CreditScore Geography  Gender  Age  Tenure    Balance  NumOfProducts  \\\n",
       "0          619    France       0   42       2       0.00              1   \n",
       "1          608     Spain       0   41       1   83807.86              1   \n",
       "2          502    France       0   42       8  159660.80              3   \n",
       "3          699    France       0   39       1       0.00              2   \n",
       "4          850     Spain       0   43       2  125510.82              1   \n",
       "\n",
       "   HasCrCard  IsActiveMember  EstimatedSalary  \n",
       "0          1               1        101348.88  \n",
       "1          0               1        112542.58  \n",
       "2          1               0        113931.57  \n",
       "3          0               0         93826.63  \n",
       "4          1               1         79084.10  "
      ]
     },
     "execution_count": 63,
     "metadata": {},
     "output_type": "execute_result"
    }
   ],
   "source": [
    "X.head()"
   ]
  },
  {
   "attachments": {},
   "cell_type": "markdown",
   "metadata": {},
   "source": [
    "One - Hot Encoding of Geography Data "
   ]
  },
  {
   "cell_type": "code",
   "execution_count": 67,
   "metadata": {},
   "outputs": [
    {
     "data": {
      "text/plain": [
       "array([[1.0000000e+00, 0.0000000e+00, 0.0000000e+00, ..., 1.0000000e+00,\n",
       "        1.0000000e+00, 1.0134888e+05],\n",
       "       [0.0000000e+00, 0.0000000e+00, 1.0000000e+00, ..., 0.0000000e+00,\n",
       "        1.0000000e+00, 1.1254258e+05],\n",
       "       [1.0000000e+00, 0.0000000e+00, 0.0000000e+00, ..., 1.0000000e+00,\n",
       "        0.0000000e+00, 1.1393157e+05],\n",
       "       ...,\n",
       "       [1.0000000e+00, 0.0000000e+00, 0.0000000e+00, ..., 0.0000000e+00,\n",
       "        1.0000000e+00, 4.2085580e+04],\n",
       "       [0.0000000e+00, 1.0000000e+00, 0.0000000e+00, ..., 1.0000000e+00,\n",
       "        0.0000000e+00, 9.2888520e+04],\n",
       "       [1.0000000e+00, 0.0000000e+00, 0.0000000e+00, ..., 1.0000000e+00,\n",
       "        0.0000000e+00, 3.8190780e+04]])"
      ]
     },
     "execution_count": 67,
     "metadata": {},
     "output_type": "execute_result"
    }
   ],
   "source": [
    "from sklearn.compose import ColumnTransformer\n",
    "from sklearn.preprocessing import OneHotEncoder\n",
    "ct = ColumnTransformer(transformers=[('encoder', OneHotEncoder(), [1])], remainder='passthrough')\n",
    "X = ct.fit_transform(X)\n",
    "X"
   ]
  },
  {
   "attachments": {},
   "cell_type": "markdown",
   "metadata": {},
   "source": [
    " Splitting the dataset into test and train"
   ]
  },
  {
   "cell_type": "code",
   "execution_count": 68,
   "metadata": {},
   "outputs": [],
   "source": [
    "from sklearn.model_selection import train_test_split\n",
    "X_train, X_test, Y_train, Y_test = train_test_split(X, Y, test_size=0.15, random_state=20113030)"
   ]
  },
  {
   "attachments": {},
   "cell_type": "markdown",
   "metadata": {},
   "source": [
    "Feature Scaling"
   ]
  },
  {
   "cell_type": "code",
   "execution_count": 69,
   "metadata": {},
   "outputs": [],
   "source": [
    "# Normal Distribution\n",
    "from sklearn.preprocessing import StandardScaler\n",
    "sc = StandardScaler()\n",
    "X_train = sc.fit_transform(X_train)\n",
    "X_test = sc.transform(X_test)"
   ]
  },
  {
   "attachments": {},
   "cell_type": "markdown",
   "metadata": {},
   "source": [
    "### Building an ANN"
   ]
  },
  {
   "cell_type": "code",
   "execution_count": 70,
   "metadata": {},
   "outputs": [],
   "source": [
    "ann = tf.keras.models.Sequential()\n",
    "# !pip install --upgrade tensorflow"
   ]
  },
  {
   "cell_type": "code",
   "execution_count": 71,
   "metadata": {},
   "outputs": [],
   "source": [
    "ann.add(tf.keras.layers.Dense(units=8, activation='relu'))"
   ]
  },
  {
   "cell_type": "code",
   "execution_count": 72,
   "metadata": {},
   "outputs": [],
   "source": [
    "ann.add(tf.keras.layers.Dense(units=16, activation='relu'))"
   ]
  },
  {
   "cell_type": "code",
   "execution_count": 73,
   "metadata": {},
   "outputs": [],
   "source": [
    "ann.add(tf.keras.layers.Dense(units=1, activation='sigmoid'))\n",
    "# sigmoid states the probabilities of leaving and non-leaving"
   ]
  },
  {
   "attachments": {},
   "cell_type": "markdown",
   "metadata": {},
   "source": [
    "### Training"
   ]
  },
  {
   "cell_type": "code",
   "execution_count": 74,
   "metadata": {},
   "outputs": [],
   "source": [
    "ann.compile(optimizer='adam', loss='binary_crossentropy', metrics= ['accuracy'])"
   ]
  },
  {
   "cell_type": "code",
   "execution_count": 75,
   "metadata": {},
   "outputs": [
    {
     "name": "stdout",
     "output_type": "stream",
     "text": [
      "Epoch 1/100\n",
      "266/266 [==============================] - 1s 2ms/step - loss: 0.5555 - accuracy: 0.7208\n",
      "Epoch 2/100\n",
      "266/266 [==============================] - 0s 2ms/step - loss: 0.4554 - accuracy: 0.7972\n",
      "Epoch 3/100\n",
      "266/266 [==============================] - 0s 2ms/step - loss: 0.4323 - accuracy: 0.8012\n",
      "Epoch 4/100\n",
      "266/266 [==============================] - 1s 2ms/step - loss: 0.4075 - accuracy: 0.8169\n",
      "Epoch 5/100\n",
      "266/266 [==============================] - 0s 2ms/step - loss: 0.3829 - accuracy: 0.8387\n",
      "Epoch 6/100\n",
      "266/266 [==============================] - 0s 2ms/step - loss: 0.3683 - accuracy: 0.8496\n",
      "Epoch 7/100\n",
      "266/266 [==============================] - 0s 2ms/step - loss: 0.3596 - accuracy: 0.8538\n",
      "Epoch 8/100\n",
      "266/266 [==============================] - 0s 2ms/step - loss: 0.3542 - accuracy: 0.8562\n",
      "Epoch 9/100\n",
      "266/266 [==============================] - 0s 2ms/step - loss: 0.3501 - accuracy: 0.8574\n",
      "Epoch 10/100\n",
      "266/266 [==============================] - 1s 2ms/step - loss: 0.3472 - accuracy: 0.8573\n",
      "Epoch 11/100\n",
      "266/266 [==============================] - 0s 2ms/step - loss: 0.3450 - accuracy: 0.8585\n",
      "Epoch 12/100\n",
      "266/266 [==============================] - 0s 1ms/step - loss: 0.3432 - accuracy: 0.8611\n",
      "Epoch 13/100\n",
      "266/266 [==============================] - 0s 1ms/step - loss: 0.3414 - accuracy: 0.8613\n",
      "Epoch 14/100\n",
      "266/266 [==============================] - 0s 1ms/step - loss: 0.3396 - accuracy: 0.8611\n",
      "Epoch 15/100\n",
      "266/266 [==============================] - 0s 2ms/step - loss: 0.3392 - accuracy: 0.8605\n",
      "Epoch 16/100\n",
      "266/266 [==============================] - 1s 2ms/step - loss: 0.3379 - accuracy: 0.8624\n",
      "Epoch 17/100\n",
      "266/266 [==============================] - 0s 2ms/step - loss: 0.3370 - accuracy: 0.8626\n",
      "Epoch 18/100\n",
      "266/266 [==============================] - 0s 2ms/step - loss: 0.3360 - accuracy: 0.8624\n",
      "Epoch 19/100\n",
      "266/266 [==============================] - 0s 2ms/step - loss: 0.3359 - accuracy: 0.8619\n",
      "Epoch 20/100\n",
      "266/266 [==============================] - 0s 1ms/step - loss: 0.3343 - accuracy: 0.8639\n",
      "Epoch 21/100\n",
      "266/266 [==============================] - 0s 2ms/step - loss: 0.3346 - accuracy: 0.8645\n",
      "Epoch 22/100\n",
      "266/266 [==============================] - 0s 2ms/step - loss: 0.3338 - accuracy: 0.8622\n",
      "Epoch 23/100\n",
      "266/266 [==============================] - 0s 2ms/step - loss: 0.3331 - accuracy: 0.8608\n",
      "Epoch 24/100\n",
      "266/266 [==============================] - 0s 2ms/step - loss: 0.3327 - accuracy: 0.8629\n",
      "Epoch 25/100\n",
      "266/266 [==============================] - 0s 1ms/step - loss: 0.3321 - accuracy: 0.8638\n",
      "Epoch 26/100\n",
      "266/266 [==============================] - 0s 1ms/step - loss: 0.3315 - accuracy: 0.8641\n",
      "Epoch 27/100\n",
      "266/266 [==============================] - 0s 2ms/step - loss: 0.3313 - accuracy: 0.8647\n",
      "Epoch 28/100\n",
      "266/266 [==============================] - 0s 2ms/step - loss: 0.3307 - accuracy: 0.8653\n",
      "Epoch 29/100\n",
      "266/266 [==============================] - 1s 2ms/step - loss: 0.3305 - accuracy: 0.8651\n",
      "Epoch 30/100\n",
      "266/266 [==============================] - 0s 2ms/step - loss: 0.3300 - accuracy: 0.8648\n",
      "Epoch 31/100\n",
      "266/266 [==============================] - 0s 2ms/step - loss: 0.3301 - accuracy: 0.8645\n",
      "Epoch 32/100\n",
      "266/266 [==============================] - 0s 2ms/step - loss: 0.3300 - accuracy: 0.8651\n",
      "Epoch 33/100\n",
      "266/266 [==============================] - 0s 2ms/step - loss: 0.3295 - accuracy: 0.8645\n",
      "Epoch 34/100\n",
      "266/266 [==============================] - 0s 2ms/step - loss: 0.3294 - accuracy: 0.8638\n",
      "Epoch 35/100\n",
      "266/266 [==============================] - 0s 2ms/step - loss: 0.3294 - accuracy: 0.8641\n",
      "Epoch 36/100\n",
      "266/266 [==============================] - 0s 2ms/step - loss: 0.3295 - accuracy: 0.8635\n",
      "Epoch 37/100\n",
      "266/266 [==============================] - 0s 2ms/step - loss: 0.3289 - accuracy: 0.8638\n",
      "Epoch 38/100\n",
      "266/266 [==============================] - 1s 2ms/step - loss: 0.3286 - accuracy: 0.8652\n",
      "Epoch 39/100\n",
      "266/266 [==============================] - 0s 2ms/step - loss: 0.3283 - accuracy: 0.8647\n",
      "Epoch 40/100\n",
      "266/266 [==============================] - 0s 2ms/step - loss: 0.3282 - accuracy: 0.8645\n",
      "Epoch 41/100\n",
      "266/266 [==============================] - 0s 2ms/step - loss: 0.3279 - accuracy: 0.8634\n",
      "Epoch 42/100\n",
      "266/266 [==============================] - 0s 2ms/step - loss: 0.3280 - accuracy: 0.8641\n",
      "Epoch 43/100\n",
      "266/266 [==============================] - 1s 2ms/step - loss: 0.3280 - accuracy: 0.8638\n",
      "Epoch 44/100\n",
      "266/266 [==============================] - 0s 2ms/step - loss: 0.3276 - accuracy: 0.8632\n",
      "Epoch 45/100\n",
      "266/266 [==============================] - 0s 2ms/step - loss: 0.3273 - accuracy: 0.8648\n",
      "Epoch 46/100\n",
      "266/266 [==============================] - 0s 2ms/step - loss: 0.3277 - accuracy: 0.8639\n",
      "Epoch 47/100\n",
      "266/266 [==============================] - 0s 2ms/step - loss: 0.3275 - accuracy: 0.8649\n",
      "Epoch 48/100\n",
      "266/266 [==============================] - 0s 2ms/step - loss: 0.3273 - accuracy: 0.8635\n",
      "Epoch 49/100\n",
      "266/266 [==============================] - 0s 2ms/step - loss: 0.3270 - accuracy: 0.8647\n",
      "Epoch 50/100\n",
      "266/266 [==============================] - 0s 1ms/step - loss: 0.3272 - accuracy: 0.8664\n",
      "Epoch 51/100\n",
      "266/266 [==============================] - 0s 1ms/step - loss: 0.3264 - accuracy: 0.8646\n",
      "Epoch 52/100\n",
      "266/266 [==============================] - 0s 2ms/step - loss: 0.3270 - accuracy: 0.8656\n",
      "Epoch 53/100\n",
      "266/266 [==============================] - 0s 2ms/step - loss: 0.3263 - accuracy: 0.8653\n",
      "Epoch 54/100\n",
      "266/266 [==============================] - 0s 2ms/step - loss: 0.3266 - accuracy: 0.8654\n",
      "Epoch 55/100\n",
      "266/266 [==============================] - 0s 2ms/step - loss: 0.3264 - accuracy: 0.8647\n",
      "Epoch 56/100\n",
      "266/266 [==============================] - 0s 2ms/step - loss: 0.3264 - accuracy: 0.8656\n",
      "Epoch 57/100\n",
      "266/266 [==============================] - 0s 1ms/step - loss: 0.3258 - accuracy: 0.8653\n",
      "Epoch 58/100\n",
      "266/266 [==============================] - 0s 2ms/step - loss: 0.3262 - accuracy: 0.8660\n",
      "Epoch 59/100\n",
      "266/266 [==============================] - 0s 2ms/step - loss: 0.3260 - accuracy: 0.8646\n",
      "Epoch 60/100\n",
      "266/266 [==============================] - 0s 1ms/step - loss: 0.3259 - accuracy: 0.8662\n",
      "Epoch 61/100\n",
      "266/266 [==============================] - 0s 2ms/step - loss: 0.3255 - accuracy: 0.8651\n",
      "Epoch 62/100\n",
      "266/266 [==============================] - 0s 2ms/step - loss: 0.3257 - accuracy: 0.8661\n",
      "Epoch 63/100\n",
      "266/266 [==============================] - 0s 1ms/step - loss: 0.3254 - accuracy: 0.8652\n",
      "Epoch 64/100\n",
      "266/266 [==============================] - 0s 2ms/step - loss: 0.3251 - accuracy: 0.8664\n",
      "Epoch 65/100\n",
      "266/266 [==============================] - 0s 1ms/step - loss: 0.3252 - accuracy: 0.8658\n",
      "Epoch 66/100\n",
      "266/266 [==============================] - 0s 2ms/step - loss: 0.3254 - accuracy: 0.8662\n",
      "Epoch 67/100\n",
      "266/266 [==============================] - 0s 2ms/step - loss: 0.3252 - accuracy: 0.8659\n",
      "Epoch 68/100\n",
      "266/266 [==============================] - 0s 1ms/step - loss: 0.3249 - accuracy: 0.8673\n",
      "Epoch 69/100\n",
      "266/266 [==============================] - 0s 2ms/step - loss: 0.3252 - accuracy: 0.8655\n",
      "Epoch 70/100\n",
      "266/266 [==============================] - 0s 1ms/step - loss: 0.3250 - accuracy: 0.8664\n",
      "Epoch 71/100\n",
      "266/266 [==============================] - 0s 2ms/step - loss: 0.3251 - accuracy: 0.8653\n",
      "Epoch 72/100\n",
      "266/266 [==============================] - 0s 2ms/step - loss: 0.3246 - accuracy: 0.8655\n",
      "Epoch 73/100\n",
      "266/266 [==============================] - 0s 2ms/step - loss: 0.3249 - accuracy: 0.8660\n",
      "Epoch 74/100\n",
      "266/266 [==============================] - 0s 2ms/step - loss: 0.3246 - accuracy: 0.8659\n",
      "Epoch 75/100\n",
      "266/266 [==============================] - 0s 1ms/step - loss: 0.3242 - accuracy: 0.8669\n",
      "Epoch 76/100\n",
      "266/266 [==============================] - 0s 1ms/step - loss: 0.3247 - accuracy: 0.8651\n",
      "Epoch 77/100\n",
      "266/266 [==============================] - 0s 2ms/step - loss: 0.3246 - accuracy: 0.8662\n",
      "Epoch 78/100\n",
      "266/266 [==============================] - 0s 2ms/step - loss: 0.3245 - accuracy: 0.8649\n",
      "Epoch 79/100\n",
      "266/266 [==============================] - 0s 2ms/step - loss: 0.3241 - accuracy: 0.8669\n",
      "Epoch 80/100\n",
      "266/266 [==============================] - 0s 1ms/step - loss: 0.3244 - accuracy: 0.8667\n",
      "Epoch 81/100\n",
      "266/266 [==============================] - 0s 1ms/step - loss: 0.3242 - accuracy: 0.8654\n",
      "Epoch 82/100\n",
      "266/266 [==============================] - 0s 2ms/step - loss: 0.3242 - accuracy: 0.8656\n",
      "Epoch 83/100\n",
      "266/266 [==============================] - 0s 2ms/step - loss: 0.3243 - accuracy: 0.8656\n",
      "Epoch 84/100\n",
      "266/266 [==============================] - 0s 2ms/step - loss: 0.3241 - accuracy: 0.8639\n",
      "Epoch 85/100\n",
      "266/266 [==============================] - 0s 2ms/step - loss: 0.3245 - accuracy: 0.8664\n",
      "Epoch 86/100\n",
      "266/266 [==============================] - 0s 2ms/step - loss: 0.3239 - accuracy: 0.8656\n",
      "Epoch 87/100\n",
      "266/266 [==============================] - 0s 2ms/step - loss: 0.3236 - accuracy: 0.8674\n",
      "Epoch 88/100\n",
      "266/266 [==============================] - 0s 2ms/step - loss: 0.3238 - accuracy: 0.8652\n",
      "Epoch 89/100\n",
      "266/266 [==============================] - 0s 2ms/step - loss: 0.3236 - accuracy: 0.8667\n",
      "Epoch 90/100\n",
      "266/266 [==============================] - 0s 2ms/step - loss: 0.3236 - accuracy: 0.8665\n",
      "Epoch 91/100\n",
      "266/266 [==============================] - 0s 2ms/step - loss: 0.3235 - accuracy: 0.8658\n",
      "Epoch 92/100\n",
      "266/266 [==============================] - 0s 2ms/step - loss: 0.3235 - accuracy: 0.8672\n",
      "Epoch 93/100\n",
      "266/266 [==============================] - 0s 1ms/step - loss: 0.3232 - accuracy: 0.8640\n",
      "Epoch 94/100\n",
      "266/266 [==============================] - 0s 2ms/step - loss: 0.3232 - accuracy: 0.8659\n",
      "Epoch 95/100\n",
      "266/266 [==============================] - 0s 2ms/step - loss: 0.3234 - accuracy: 0.8638\n",
      "Epoch 96/100\n",
      "266/266 [==============================] - 0s 1ms/step - loss: 0.3233 - accuracy: 0.8666\n",
      "Epoch 97/100\n",
      "266/266 [==============================] - 0s 2ms/step - loss: 0.3234 - accuracy: 0.8649\n",
      "Epoch 98/100\n",
      "266/266 [==============================] - 0s 2ms/step - loss: 0.3234 - accuracy: 0.8669\n",
      "Epoch 99/100\n",
      "266/266 [==============================] - 0s 2ms/step - loss: 0.3231 - accuracy: 0.8672\n",
      "Epoch 100/100\n",
      "266/266 [==============================] - 1s 2ms/step - loss: 0.3235 - accuracy: 0.8654\n"
     ]
    },
    {
     "data": {
      "text/plain": [
       "<keras.callbacks.History at 0x2b59dbf09d0>"
      ]
     },
     "execution_count": 75,
     "metadata": {},
     "output_type": "execute_result"
    }
   ],
   "source": [
    "ann.fit(X_train, Y_train, batch_size= 32, epochs=100)\n",
    "# Batch_size parameter specifies the number of samples from \n",
    "# the training dataset that will be used in each update of the model's parameters"
   ]
  },
  {
   "attachments": {},
   "cell_type": "markdown",
   "metadata": {},
   "source": [
    "### Evaluation"
   ]
  },
  {
   "cell_type": "code",
   "execution_count": 82,
   "metadata": {},
   "outputs": [
    {
     "name": "stdout",
     "output_type": "stream",
     "text": [
      "47/47 [==============================] - 0s 2ms/step\n"
     ]
    },
    {
     "data": {
      "text/plain": [
       "array([[0],\n",
       "       [0],\n",
       "       [0],\n",
       "       ...,\n",
       "       [0],\n",
       "       [0],\n",
       "       [0]])"
      ]
     },
     "execution_count": 82,
     "metadata": {},
     "output_type": "execute_result"
    }
   ],
   "source": [
    "Y_pred = ann.predict(X_test)\n",
    "Y_pred = np.where(Y_pred > 0.5, 1, 0)\n",
    "Y_pred      "
   ]
  },
  {
   "cell_type": "code",
   "execution_count": 84,
   "metadata": {},
   "outputs": [
    {
     "name": "stdout",
     "output_type": "stream",
     "text": [
      "0.862\n",
      "[[1141   51]\n",
      " [ 156  152]]\n"
     ]
    }
   ],
   "source": [
    "from sklearn.metrics import confusion_matrix, accuracy_score\n",
    "cm = confusion_matrix(Y_test, Y_pred)\n",
    "print(accuracy_score(Y_test, Y_pred))\n",
    "print(cm)"
   ]
  },
  {
   "attachments": {},
   "cell_type": "markdown",
   "metadata": {},
   "source": [
    "### Prediction \n",
    "for --\n",
    "\n",
    "Customer Name - Antriksh || ID = 189908876 || Geography = France || Credit Score = 700 || Gender = Male || Age = 21 || Tenure = 2 years || Balance = 10000 || Number of Products = 1 || Credit Card = 1 || Active Member = 1 || Salary = 12000 "
   ]
  },
  {
   "cell_type": "code",
   "execution_count": 77,
   "metadata": {},
   "outputs": [
    {
     "name": "stdout",
     "output_type": "stream",
     "text": [
      "1/1 [==============================] - 0s 53ms/step\n",
      "Will not leave the bank\n"
     ]
    }
   ],
   "source": [
    "if ann.predict(sc.transform([[1, 0, 0, 700, 1, 21, 2, 10000, 1, 1, 1, 12000]])) > 0.5:\n",
    "    print(\"Will leave the bank\")\n",
    "else:\n",
    "    print(\"Will not leave the bank\")    "
   ]
  },
  {
   "cell_type": "code",
   "execution_count": null,
   "metadata": {},
   "outputs": [],
   "source": [
    "#  will not leave the bank."
   ]
  }
 ],
 "metadata": {
  "kernelspec": {
   "display_name": "Python 3",
   "language": "python",
   "name": "python3"
  },
  "language_info": {
   "codemirror_mode": {
    "name": "ipython",
    "version": 3
   },
   "file_extension": ".py",
   "mimetype": "text/x-python",
   "name": "python",
   "nbconvert_exporter": "python",
   "pygments_lexer": "ipython3",
   "version": "3.11.1"
  },
  "orig_nbformat": 4
 },
 "nbformat": 4,
 "nbformat_minor": 2
}
